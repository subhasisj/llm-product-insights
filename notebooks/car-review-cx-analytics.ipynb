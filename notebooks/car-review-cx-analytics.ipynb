{
 "cells": [
  {
   "attachments": {},
   "cell_type": "markdown",
   "metadata": {},
   "source": [
    "## Customer Experience Insights from Car Reviews\n",
    "\n",
    "We will extract insights from car reviews using the following steps:\n",
    "\n",
    "- Load the data\n",
    "- Clean the data\n",
    "- Extract insights from the data using LLMs and Langchain"
   ]
  },
  {
   "cell_type": "code",
   "execution_count": 1,
   "metadata": {},
   "outputs": [
    {
     "name": "stderr",
     "output_type": "stream",
     "text": [
      "d:\\Anaconda\\envs\\llms\\Lib\\site-packages\\tqdm\\auto.py:21: TqdmWarning: IProgress not found. Please update jupyter and ipywidgets. See https://ipywidgets.readthedocs.io/en/stable/user_install.html\n",
      "  from .autonotebook import tqdm as notebook_tqdm\n",
      "Found cached dataset csv (C:/Users/Subha/.cache/huggingface/datasets/florentgbelidji___csv/florentgbelidji--car-reviews-eddb0c58c5c9c7fa/0.0.0/6954658bab30a358235fa864b05cf819af0e179325c740e4bc853bcc7ec513e1)\n",
      "100%|██████████| 1/1 [00:00<00:00, 142.85it/s]\n"
     ]
    }
   ],
   "source": [
    "from datasets import load_dataset\n",
    "\n",
    "dataset = load_dataset(\"florentgbelidji/car-reviews\")"
   ]
  },
  {
   "cell_type": "code",
   "execution_count": 35,
   "metadata": {},
   "outputs": [
    {
     "data": {
      "text/plain": [
       "True"
      ]
     },
     "execution_count": 35,
     "metadata": {},
     "output_type": "execute_result"
    }
   ],
   "source": [
    "from dotenv import load_dotenv,find_dotenv\n",
    "\n",
    "load_dotenv(find_dotenv())"
   ]
  },
  {
   "cell_type": "code",
   "execution_count": 3,
   "metadata": {},
   "outputs": [
    {
     "data": {
      "text/html": [
       "<div>\n",
       "<style scoped>\n",
       "    .dataframe tbody tr th:only-of-type {\n",
       "        vertical-align: middle;\n",
       "    }\n",
       "\n",
       "    .dataframe tbody tr th {\n",
       "        vertical-align: top;\n",
       "    }\n",
       "\n",
       "    .dataframe thead th {\n",
       "        text-align: right;\n",
       "    }\n",
       "</style>\n",
       "<table border=\"1\" class=\"dataframe\">\n",
       "  <thead>\n",
       "    <tr style=\"text-align: right;\">\n",
       "      <th></th>\n",
       "      <th>Review_Date</th>\n",
       "      <th>Author_Name</th>\n",
       "      <th>Vehicle_Title</th>\n",
       "      <th>Review_Title</th>\n",
       "      <th>Review</th>\n",
       "      <th>Rating</th>\n",
       "    </tr>\n",
       "  </thead>\n",
       "  <tbody>\n",
       "    <tr>\n",
       "      <th>0</th>\n",
       "      <td>on 02/02/17 19:53 PM (PST)</td>\n",
       "      <td>Ricardo</td>\n",
       "      <td>1997 Toyota Previa Minivan LE 3dr Minivan</td>\n",
       "      <td>great vehicle, Toyota best design ever. thank you</td>\n",
       "      <td>there is no way back, enjoy what you have .</td>\n",
       "      <td>5</td>\n",
       "    </tr>\n",
       "    <tr>\n",
       "      <th>1</th>\n",
       "      <td>on 12/17/16 16:40 PM (PST)</td>\n",
       "      <td>matt</td>\n",
       "      <td>1997 Toyota Previa Minivan LE All-Trac 3dr Min...</td>\n",
       "      <td>my 4th previa, best van ever made!</td>\n",
       "      <td>1st 95 went over 300k before being totalled b...</td>\n",
       "      <td>5</td>\n",
       "    </tr>\n",
       "    <tr>\n",
       "      <th>2</th>\n",
       "      <td>on 04/14/10 07:43 AM (PDT)</td>\n",
       "      <td>Joel G</td>\n",
       "      <td>1997 Toyota Previa Minivan LE 3dr Minivan</td>\n",
       "      <td>Mom's Taxi Babies Ride</td>\n",
       "      <td>Sold 86 Toyota Van 285K miles to be replaced ...</td>\n",
       "      <td>5</td>\n",
       "    </tr>\n",
       "    <tr>\n",
       "      <th>3</th>\n",
       "      <td>on 11/12/08 17:31 PM (PST)</td>\n",
       "      <td>Dennis</td>\n",
       "      <td>1997 Toyota Previa Minivan LE All-Trac 3dr Min...</td>\n",
       "      <td>My Favorite Van Ever</td>\n",
       "      <td>I have owned lots of vans, and the Previa is ...</td>\n",
       "      <td>5</td>\n",
       "    </tr>\n",
       "    <tr>\n",
       "      <th>4</th>\n",
       "      <td>on 04/14/08 22:47 PM (PDT)</td>\n",
       "      <td>Alf Skrastins</td>\n",
       "      <td>1997 Toyota Previa Minivan LE All-Trac 3dr Min...</td>\n",
       "      <td>Best Minivan ever</td>\n",
       "      <td>My 1997 AWD Previa is the third one that I ha...</td>\n",
       "      <td>5</td>\n",
       "    </tr>\n",
       "  </tbody>\n",
       "</table>\n",
       "</div>"
      ],
      "text/plain": [
       "                   Review_Date     Author_Name   \n",
       "0   on 02/02/17 19:53 PM (PST)        Ricardo   \\\n",
       "1   on 12/17/16 16:40 PM (PST)           matt    \n",
       "2   on 04/14/10 07:43 AM (PDT)         Joel G    \n",
       "3   on 11/12/08 17:31 PM (PST)         Dennis    \n",
       "4   on 04/14/08 22:47 PM (PDT)  Alf Skrastins    \n",
       "\n",
       "                                       Vehicle_Title   \n",
       "0          1997 Toyota Previa Minivan LE 3dr Minivan  \\\n",
       "1  1997 Toyota Previa Minivan LE All-Trac 3dr Min...   \n",
       "2          1997 Toyota Previa Minivan LE 3dr Minivan   \n",
       "3  1997 Toyota Previa Minivan LE All-Trac 3dr Min...   \n",
       "4  1997 Toyota Previa Minivan LE All-Trac 3dr Min...   \n",
       "\n",
       "                                        Review_Title   \n",
       "0  great vehicle, Toyota best design ever. thank you  \\\n",
       "1                 my 4th previa, best van ever made!   \n",
       "2                             Mom's Taxi Babies Ride   \n",
       "3                               My Favorite Van Ever   \n",
       "4                                  Best Minivan ever   \n",
       "\n",
       "                                              Review  Rating  \n",
       "0        there is no way back, enjoy what you have .       5  \n",
       "1   1st 95 went over 300k before being totalled b...       5  \n",
       "2   Sold 86 Toyota Van 285K miles to be replaced ...       5  \n",
       "3   I have owned lots of vans, and the Previa is ...       5  \n",
       "4   My 1997 AWD Previa is the third one that I ha...       5  "
      ]
     },
     "execution_count": 3,
     "metadata": {},
     "output_type": "execute_result"
    }
   ],
   "source": [
    "# List the dataset as a dataframe and show some sample data\n",
    "import pandas as pd\n",
    "# Max rows and columns to display\n",
    "pd.set_option('display.max_rows', 50)\n",
    "pd.set_option('display.max_columns', 1000)\n",
    "\n",
    "# Drop the unnamed columns\n",
    "df = pd.DataFrame(dataset['train']).drop(columns=['Unnamed: 0','Unnamed: 0.1'])\n",
    "df.head()"
   ]
  },
  {
   "cell_type": "code",
   "execution_count": 4,
   "metadata": {},
   "outputs": [
    {
     "data": {
      "text/plain": [
       "(36984, 6)"
      ]
     },
     "execution_count": 4,
     "metadata": {},
     "output_type": "execute_result"
    }
   ],
   "source": [
    "df.shape"
   ]
  },
  {
   "cell_type": "code",
   "execution_count": 5,
   "metadata": {},
   "outputs": [
    {
     "data": {
      "text/plain": [
       "Vehicle_Title\n",
       "2007 bmw x3 suv 3.0si 4dr suv awd (3.0l 6cyl 6m)                                 70\n",
       "2008 toyota camry hybrid sedan 4dr sedan (2.4l 4cyl gas/electric hybrid cvt)     70\n",
       "2007 toyota camry hybrid sedan 4dr sedan (2.4l 4cyl gas/electric hybrid cvt)     70\n",
       "2006 toyota prius hatchback 4dr hatchback (1.5l 4cyl gas/electric hybrid cvt)    70\n",
       "2004 toyota prius hatchback 4dr hatchback (1.5l 4cyl cvt)                        70\n",
       "2005 toyota prius hatchback 4dr hatchback (1.5l 4cyl gas/electric hybrid cvt)    70\n",
       "2009 toyota camry hybrid sedan 4dr sedan (2.4l 4cyl gas/electric hybrid cvt)     70\n",
       "2002 toyota prius sedan 4dr sedan (1.5l 4cyl gas/electric hybrid cvt)            66\n",
       "2002 toyota mr2 spyder convertible 2dr convertible (1.8l 4cyl 5m)                59\n",
       "2003 nissan sentra se-r spec v se-r spec v 4dr sedan (2.5l 4cyl 6m)              59\n",
       "2010 nissan maxima sedan 3.5 sv 4dr sedan (3.5l 6cyl cvt)                        57\n",
       "2002 nissan sentra se-r spec v se-r spec v 4dr sedan (2.5l 4cyl 6m)              57\n",
       "2009 nissan maxima sedan 3.5 sv 4dr sedan (3.5l 6cyl cvt)                        55\n",
       "2003 toyota prius sedan 4dr sedan (1.5l 4cyl gas/electric hybrid cvt)            55\n",
       "2007 nissan altima hybrid sedan 4dr sedan (2.5l 4cyl gas/electric hybrid cvt)    55\n",
       "2006 toyota camry solara convertible sle v6 2dr convertible (3.3l 6cyl 5a)       54\n",
       "2000 toyota echo sedan 4dr sedan                                                 54\n",
       "2005 bmw x3 suv 3.0i awd 4dr suv (3.0l 6cyl 6m)                                  54\n",
       "2011 toyota avalon sedan limited 4dr sedan (3.5l 6cyl 6a)                        52\n",
       "2001 toyota prius sedan 4dr sedan (1.5l 4cyl gas/electric hybrid cvt)            51\n",
       "Name: count, dtype: int64"
      ]
     },
     "execution_count": 5,
     "metadata": {},
     "output_type": "execute_result"
    }
   ],
   "source": [
    "# Cleanup the data\n",
    "df = df.dropna()\n",
    "# lowercase all string type columns\n",
    "df = df.applymap(lambda s:s.lower() if type(s) == str else s)\n",
    "# Check the value counts of the Vehicle_Title column and print the top 20\n",
    "df['Vehicle_Title'].value_counts()[:20]"
   ]
  },
  {
   "cell_type": "code",
   "execution_count": 6,
   "metadata": {},
   "outputs": [
    {
     "data": {
      "text/plain": [
       "Vehicle_Title\n",
       "2008 nissan altima sedan 2.5 s 4dr sedan (2.5l 4cyl cvt)                         37\n",
       "2006 nissan sentra sedan 1.8 s 4dr sedan (1.8l 4cyl 4a)                          35\n",
       "2007 bmw x3 suv 3.0si 4dr suv awd (3.0l 6cyl 6m)                                 34\n",
       "2007 nissan altima sedan 2.5 s 4dr sedan (2.5l 4cyl cvt)                         30\n",
       "2006 nissan maxima sedan 3.5 se 4dr sedan (3.5l 6cyl 5a)                         30\n",
       "2002 nissan sentra se-r spec v se-r spec v 4dr sedan (2.5l 4cyl 6m)              30\n",
       "2002 nissan sentra se-r se-r 4dr sedan (2.5l 4cyl 5m)                            30\n",
       "2010 toyota corolla sedan le 4dr sedan (1.8l 4cyl 4a)                            28\n",
       "2000 nissan sentra sedan gxe 4dr sedan                                           28\n",
       "2007 toyota prius hatchback 4dr hatchback (1.5l 4cyl gas/electric hybrid cvt)    27\n",
       "1999 toyota camry sedan le 4dr sedan                                             27\n",
       "2008 nissan sentra sedan 2.0 s 4dr sedan (2.0l 4cyl cvt)                         26\n",
       "2007 bmw x5 suv 3.0si 4dr suv awd (3.0l 6cyl 6a)                                 26\n",
       "2003 nissan sentra se-r spec v se-r spec v 4dr sedan (2.5l 4cyl 6m)              26\n",
       "2001 nissan altima sedan gxe 4dr sedan (2.4l 4cyl 5m)                            26\n",
       "2008 bmw x3 suv 3.0si 4dr suv awd (3.0l 6cyl 6m)                                 26\n",
       "2007 nissan sentra sedan 2.0 s 4dr sedan (2.0l 4cyl cvt)                         25\n",
       "2005 bmw x3 suv 3.0i awd 4dr suv (3.0l 6cyl 6m)                                  24\n",
       "2005 nissan maxima sedan 3.5 se 4dr sedan (3.5l 6cyl 5a)                         24\n",
       "2009 nissan rogue suv sl 4dr suv awd (2.5l 4cyl cvt)                             24\n",
       "Name: count, dtype: int64"
      ]
     },
     "execution_count": 6,
     "metadata": {},
     "output_type": "execute_result"
    }
   ],
   "source": [
    "# Which vehicle titles have the most rating of 3 or less?\n",
    "df[df['Rating'] <= 4]['Vehicle_Title'].value_counts()[:20]"
   ]
  },
  {
   "attachments": {},
   "cell_type": "markdown",
   "metadata": {},
   "source": [
    "`pro-tip`: You can use some clustering techniques to group the reviews of the same car model together. This will help you to extract insights from the reviews of the same car model.\n",
    "\n",
    "For this notebook, we will however focus on extracting insights from the reviews of `2008 nissan altima sedan 2.5 s 4dr sedan (2.5l 4cyl cvt)`."
   ]
  },
  {
   "cell_type": "code",
   "execution_count": 7,
   "metadata": {},
   "outputs": [
    {
     "data": {
      "text/html": [
       "<div>\n",
       "<style scoped>\n",
       "    .dataframe tbody tr th:only-of-type {\n",
       "        vertical-align: middle;\n",
       "    }\n",
       "\n",
       "    .dataframe tbody tr th {\n",
       "        vertical-align: top;\n",
       "    }\n",
       "\n",
       "    .dataframe thead th {\n",
       "        text-align: right;\n",
       "    }\n",
       "</style>\n",
       "<table border=\"1\" class=\"dataframe\">\n",
       "  <thead>\n",
       "    <tr style=\"text-align: right;\">\n",
       "      <th></th>\n",
       "      <th>Review_Date</th>\n",
       "      <th>Author_Name</th>\n",
       "      <th>Vehicle_Title</th>\n",
       "      <th>Review_Title</th>\n",
       "      <th>Review</th>\n",
       "      <th>Rating</th>\n",
       "    </tr>\n",
       "  </thead>\n",
       "  <tbody>\n",
       "    <tr>\n",
       "      <th>33271</th>\n",
       "      <td>on 07/26/18 05:33 am (pdt)</td>\n",
       "      <td>mick w.</td>\n",
       "      <td>2008 nissan altima sedan 2.5 s 4dr sedan (2.5l...</td>\n",
       "      <td>where do i start with complaints?</td>\n",
       "      <td>the cvt transmission failed at 120,000 which ...</td>\n",
       "      <td>1</td>\n",
       "    </tr>\n",
       "    <tr>\n",
       "      <th>33273</th>\n",
       "      <td>on 05/29/18 08:55 am (pdt)</td>\n",
       "      <td>r lyons</td>\n",
       "      <td>2008 nissan altima sedan 2.5 s 4dr sedan (2.5l...</td>\n",
       "      <td>screwed the widow woman</td>\n",
       "      <td>bought it used, knew the owner , 1 owner, wel...</td>\n",
       "      <td>2</td>\n",
       "    </tr>\n",
       "    <tr>\n",
       "      <th>33274</th>\n",
       "      <td>on 07/16/17 05:03 am (pdt)</td>\n",
       "      <td>mtnhiker70</td>\n",
       "      <td>2008 nissan altima sedan 2.5 s 4dr sedan (2.5l...</td>\n",
       "      <td>good car except for the cvt</td>\n",
       "      <td>the car drive nicely and i've owned it for 9 ...</td>\n",
       "      <td>4</td>\n",
       "    </tr>\n",
       "    <tr>\n",
       "      <th>33276</th>\n",
       "      <td>on 03/27/17 22:09 pm (pdt)</td>\n",
       "      <td>bill</td>\n",
       "      <td>2008 nissan altima sedan 2.5 s 4dr sedan (2.5l...</td>\n",
       "      <td>will never buy the cvt transmission again</td>\n",
       "      <td>i had a 2003 nissan altima 2.5 sl that i love...</td>\n",
       "      <td>3</td>\n",
       "    </tr>\n",
       "    <tr>\n",
       "      <th>33278</th>\n",
       "      <td>on 01/18/17 20:39 pm (pst)</td>\n",
       "      <td>jtab</td>\n",
       "      <td>2008 nissan altima sedan 2.5 s 4dr sedan (2.5l...</td>\n",
       "      <td>own 2 of them same year and model</td>\n",
       "      <td>both cars have reached over 110k. reliability...</td>\n",
       "      <td>3</td>\n",
       "    </tr>\n",
       "  </tbody>\n",
       "</table>\n",
       "</div>"
      ],
      "text/plain": [
       "                       Review_Date  Author_Name   \n",
       "33271   on 07/26/18 05:33 am (pdt)     mick w.   \\\n",
       "33273   on 05/29/18 08:55 am (pdt)     r lyons    \n",
       "33274   on 07/16/17 05:03 am (pdt)  mtnhiker70    \n",
       "33276   on 03/27/17 22:09 pm (pdt)        bill    \n",
       "33278   on 01/18/17 20:39 pm (pst)        jtab    \n",
       "\n",
       "                                           Vehicle_Title   \n",
       "33271  2008 nissan altima sedan 2.5 s 4dr sedan (2.5l...  \\\n",
       "33273  2008 nissan altima sedan 2.5 s 4dr sedan (2.5l...   \n",
       "33274  2008 nissan altima sedan 2.5 s 4dr sedan (2.5l...   \n",
       "33276  2008 nissan altima sedan 2.5 s 4dr sedan (2.5l...   \n",
       "33278  2008 nissan altima sedan 2.5 s 4dr sedan (2.5l...   \n",
       "\n",
       "                                    Review_Title   \n",
       "33271          where do i start with complaints?  \\\n",
       "33273                    screwed the widow woman   \n",
       "33274                good car except for the cvt   \n",
       "33276  will never buy the cvt transmission again   \n",
       "33278          own 2 of them same year and model   \n",
       "\n",
       "                                                  Review  Rating  \n",
       "33271   the cvt transmission failed at 120,000 which ...       1  \n",
       "33273   bought it used, knew the owner , 1 owner, wel...       2  \n",
       "33274   the car drive nicely and i've owned it for 9 ...       4  \n",
       "33276   i had a 2003 nissan altima 2.5 sl that i love...       3  \n",
       "33278   both cars have reached over 110k. reliability...       3  "
      ]
     },
     "execution_count": 7,
     "metadata": {},
     "output_type": "execute_result"
    }
   ],
   "source": [
    "nissan_altima_data = df[df['Vehicle_Title'] == '2008 nissan altima sedan 2.5 s 4dr sedan (2.5l 4cyl cvt)']\n",
    "nissan_altima_data.head()"
   ]
  },
  {
   "cell_type": "code",
   "execution_count": 8,
   "metadata": {},
   "outputs": [
    {
     "data": {
      "text/plain": [
       "Rating\n",
       "4    21\n",
       "3    12\n",
       "5     9\n",
       "2     3\n",
       "1     1\n",
       "Name: count, dtype: int64"
      ]
     },
     "execution_count": 8,
     "metadata": {},
     "output_type": "execute_result"
    }
   ],
   "source": [
    "nissan_altima_data.Rating.value_counts()"
   ]
  },
  {
   "cell_type": "code",
   "execution_count": 9,
   "metadata": {},
   "outputs": [
    {
     "name": "stderr",
     "output_type": "stream",
     "text": [
      "C:\\Users\\Subha\\AppData\\Local\\Temp\\ipykernel_3780\\2622127119.py:2: SettingWithCopyWarning: \n",
      "A value is trying to be set on a copy of a slice from a DataFrame.\n",
      "Try using .loc[row_indexer,col_indexer] = value instead\n",
      "\n",
      "See the caveats in the documentation: https://pandas.pydata.org/pandas-docs/stable/user_guide/indexing.html#returning-a-view-versus-a-copy\n",
      "  nissan_altima_data['Review_Text'] = nissan_altima_data['Review_Title'] + ' ' + nissan_altima_data['Review']\n"
     ]
    }
   ],
   "source": [
    "# Combine the review title and review text into a single column\n",
    "nissan_altima_data['Review_Text'] = nissan_altima_data['Review_Title'] + ' ' + nissan_altima_data['Review']"
   ]
  },
  {
   "cell_type": "code",
   "execution_count": 10,
   "metadata": {},
   "outputs": [
    {
     "name": "stderr",
     "output_type": "stream",
     "text": [
      "C:\\Users\\Subha\\AppData\\Local\\Temp\\ipykernel_3780\\2174168981.py:2: SettingWithCopyWarning: \n",
      "A value is trying to be set on a copy of a slice from a DataFrame.\n",
      "Try using .loc[row_indexer,col_indexer] = value instead\n",
      "\n",
      "See the caveats in the documentation: https://pandas.pydata.org/pandas-docs/stable/user_guide/indexing.html#returning-a-view-versus-a-copy\n",
      "  nissan_altima_data['Review_Text_Word_Count'] = nissan_altima_data['Review_Text'].apply(lambda x: len(x.split()))\n",
      "C:\\Users\\Subha\\AppData\\Local\\Temp\\ipykernel_3780\\2174168981.py:10: UserWarning: \n",
      "\n",
      "`distplot` is a deprecated function and will be removed in seaborn v0.14.0.\n",
      "\n",
      "Please adapt your code to use either `displot` (a figure-level function with\n",
      "similar flexibility) or `histplot` (an axes-level function for histograms).\n",
      "\n",
      "For a guide to updating your code to use the new functions, please see\n",
      "https://gist.github.com/mwaskom/de44147ed2974457ad6372750bbe5751\n",
      "\n",
      "  sns.distplot(nissan_altima_data['Review_Text_Word_Count'], kde=True)\n"
     ]
    },
    {
     "data": {
      "image/png": "[encoded data removed]",
      "text/plain": [
       "<Figure size 1200x600 with 1 Axes>"
      ]
     },
     "metadata": {},
     "output_type": "display_data"
    }
   ],
   "source": [
    "# Calculate the number of words in the review text\n",
    "nissan_altima_data['Review_Text_Word_Count'] = nissan_altima_data['Review_Text'].apply(lambda x: len(x.split()))\n",
    "\n",
    "# Plot the distribution of the review text word count\n",
    "import matplotlib.pyplot as plt\n",
    "import seaborn as sns\n",
    "sns.set_style('darkgrid')\n",
    "\n",
    "plt.figure(figsize=(12,6))\n",
    "sns.distplot(nissan_altima_data['Review_Text_Word_Count'], kde=True)\n",
    "plt.title('Review Text Word Count Distribution')\n",
    "plt.show()"
   ]
  },
  {
   "cell_type": "code",
   "execution_count": 11,
   "metadata": {},
   "outputs": [
    {
     "name": "stderr",
     "output_type": "stream",
     "text": [
      "You're using a different task than the one specified in the repository. Be sure to know what you're doing :)\n"
     ]
    }
   ],
   "source": [
    "from langchain.embeddings import HuggingFaceHubEmbeddings\n",
    "embeddings = HuggingFaceHubEmbeddings(repo_id=\"sentence-transformers/all-MiniLM-L6-v2\")\n",
    "\n",
    "# # Create a dataframe with the review text and the embeddings\n",
    "# nissan_altima_data['Review_Text_Embeddings'] = nissan_altima_data['Review_Text'].apply(lambda x: embeddings.embed_query(x))"
   ]
  },
  {
   "cell_type": "code",
   "execution_count": 12,
   "metadata": {},
   "outputs": [],
   "source": [
    "# # Create a Chroma DB and add the review text embeddings\n",
    "# from langchain.vectorstores import Chroma\n",
    "\n",
    "\n",
    "# db = Chroma(embedding_function=embeddings.embed_query)\n",
    "# db.add_vectors(nissan_altima_data['Review_Text_Embeddings'].tolist())"
   ]
  },
  {
   "cell_type": "code",
   "execution_count": 13,
   "metadata": {},
   "outputs": [],
   "source": [
    "import pinecone\n",
    "from langchain.vectorstores import Pinecone\n",
    "import os\n",
    "# Initialize Pinecone\n",
    "pinecone.init(api_key = os.getenv(\"PINECONE_API_KEY\"),\n",
    "                environment = os.getenv(\"PINECONE_ENV\")\n",
    ")"
   ]
  },
  {
   "cell_type": "code",
   "execution_count": 14,
   "metadata": {},
   "outputs": [],
   "source": [
    "vstore = Pinecone.from_texts(nissan_altima_data['Review_Text'].tolist(), embeddings, index_name='car-reviews')"
   ]
  },
  {
   "cell_type": "code",
   "execution_count": 15,
   "metadata": {},
   "outputs": [
    {
     "data": {
      "text/plain": [
       "[Document(page_content=\"good car except for the cvt  the car drive nicely and i've owned it for 9 years, 100k and done just tires and brakes. but i've had major problems with the cvt.  it's been warranteed by nissan.  the transmission died on a long trip last summer.  thankfully it was still under the recall warranty.  but it could have caused an accident and we left stranded 3 states away from home.  a dealership in nj fixed it and the tranny is much better now.\", metadata={}),\n",
       " Document(page_content=\"good car except for the cvt  the car drive nicely and i've owned it for 9 years, 100k and done just tires and brakes. but i've had major problems with the cvt.  it's been warranteed by nissan.  the transmission died on a long trip last summer.  thankfully it was still under the recall warranty.  but it could have caused an accident and we left stranded 3 states away from home.  a dealership in nj fixed it and the tranny is much better now.\", metadata={}),\n",
       " Document(page_content=\"screwed the widow woman  bought it used, knew the owner , 1 owner, well maintained , 2 months to the day of purchase , i'm replacing the cvt transmission not a happy girl, give me back my '92 buick any day. it ran like a scalded dog , never any problems . shame on you nissan shame on you \", metadata={}),\n",
       " Document(page_content=\"screwed the widow woman  bought it used, knew the owner , 1 owner, well maintained , 2 months to the day of purchase , i'm replacing the cvt transmission not a happy girl, give me back my '92 buick any day. it ran like a scalded dog , never any problems . shame on you nissan shame on you \", metadata={})]"
      ]
     },
     "execution_count": 15,
     "metadata": {},
     "output_type": "execute_result"
    }
   ],
   "source": [
    "query = \"Good engine, but the transmission is not good.\"\n",
    "result = vstore.similarity_search(query)\n",
    "result"
   ]
  },
  {
   "cell_type": "markdown",
   "metadata": {},
   "source": [
    "### RetrievalQA LLM Chain"
   ]
  },
  {
   "cell_type": "code",
   "execution_count": 50,
   "metadata": {},
   "outputs": [],
   "source": [
    "from langchain.chains import RetrievalQA\n",
    "from langchain import HuggingFaceHub\n",
    "from langchain.chat_models import ChatOpenAI\n",
    "\n",
    "# initialize Hub LLM\n",
    "llm = HuggingFaceHub(\n",
    "        repo_id='declare-lab/flan-alpaca-base',\n",
    "    model_kwargs={'temperature':1e-10}\n",
    ")\n",
    "\n",
    "# llm = ChatOpenAI(model_name=\"gpt-3.5-turbo\",temperature=0.0,openai_api_key=os.getenv(\"OPENAI_API_KEY\"))\n",
    "\n",
    "review_qa_chain = RetrievalQA.from_chain_type(\n",
    "    chain_type='stuff',\n",
    "    llm=llm,\n",
    "    retriever=vstore.as_retriever(),\n",
    ")"
   ]
  },
  {
   "cell_type": "code",
   "execution_count": 53,
   "metadata": {},
   "outputs": [
    {
     "data": {
      "text/plain": [
       "\"I'm glad you found this helpful.\""
      ]
     },
     "execution_count": 53,
     "metadata": {},
     "output_type": "execute_result"
    }
   ],
   "source": [
    "prompt_template = \"Below is an instruction that describes a task. Write a response that appropriately completes the request.\\n\\n### Instruction:\\n{instruction}\\n\\n### Response:\"\n",
    "\n",
    "\n",
    "# q = \"\"\"\n",
    "# The reviews are for the car model: 2008 nissan altima sedan 2.5 s 4dr sedan (2.5l 4cyl cvt)'.\n",
    "# What is the overall impression of these reviews? Give most prevalent examples in bullets. \n",
    "# What do you suggest the manufacturer must focus on improving?\n",
    "# \"\"\"\n",
    "q = \"\"\"\n",
    "The reviews are for the car model: 2008 nissan altima sedan 2.5 s 4dr sedan (2.5l 4cyl cvt)'.\n",
    "Can you summarize reviews?\n",
    "\"\"\"\n",
    "prompt = prompt_template.format(instruction=q)\n",
    "\n",
    "result = review_qa_chain.run(prompt)\n",
    "result\n"
   ]
  },
  {
   "cell_type": "code",
   "execution_count": null,
   "metadata": {},
   "outputs": [],
   "source": []
  }
 ],
 "metadata": {
  "kernelspec": {
   "display_name": "llm",
   "language": "python",
   "name": "python3"
  },
  "language_info": {
   "codemirror_mode": {
    "name": "ipython",
    "version": 3
   },
   "file_extension": ".py",
   "mimetype": "text/x-python",
   "name": "python",
   "nbconvert_exporter": "python",
   "pygments_lexer": "ipython3",
   "version": "3.11.3"
  },
  "orig_nbformat": 4
 },
 "nbformat": 4,
 "nbformat_minor": 2
}
